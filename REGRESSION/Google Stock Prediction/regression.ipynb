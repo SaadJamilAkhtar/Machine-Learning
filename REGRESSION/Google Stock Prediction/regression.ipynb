{
 "cells": [
  {
   "cell_type": "markdown",
   "metadata": {},
   "source": [
    "# Google Stock Prediction\n"
   ]
  },
  {
   "cell_type": "code",
   "execution_count": 81,
   "metadata": {
    "pycharm": {
     "name": "#%%\n"
    }
   },
   "outputs": [
    {
     "name": "stdout",
     "output_type": "stream",
     "text": [
      "         Date       Open       High        Low      Close  Adj Close    Volume\n",
      "0  2004-08-19  50.050049  52.082081  48.028027  50.220219  50.220219  44659096\n",
      "1  2004-08-20  50.555557  54.594597  50.300301  54.209209  54.209209  22834343\n",
      "2  2004-08-23  55.430431  56.796799  54.579578  54.754753  54.754753  18256126\n",
      "3  2004-08-24  55.675674  55.855858  51.836838  52.487488  52.487488  15247337\n",
      "4  2004-08-25  52.532532  54.054054  51.991993  53.053055  53.053055   9188602\n"
     ]
    }
   ],
   "source": [
    "import pandas as pd\n",
    "import numpy as np\n",
    "from sklearn import preprocessing, model_selection, svm\n",
    "from sklearn.linear_model import LinearRegression\n",
    "\n",
    "df = pd.read_csv('./dataset/GOOGL.csv')\n",
    "\n",
    "print(df.head())"
   ]
  },
  {
   "cell_type": "markdown",
   "metadata": {},
   "source": [
    "### Clean Up the dataframe"
   ]
  },
  {
   "cell_type": "code",
   "execution_count": 82,
   "metadata": {},
   "outputs": [
    {
     "name": "stdout",
     "output_type": "stream",
     "text": [
      "       Close  HL_percent  Percent_change    Volume\n",
      "0  50.220219    3.707395        0.340000  44659096\n",
      "1  54.209209    0.710927        7.227004  22834343\n",
      "2  54.754753    3.729441       -1.218966  18256126\n",
      "3  52.487488    6.417472       -5.726354  15247337\n",
      "4  53.053055    1.886789        0.990858   9188602\n"
     ]
    }
   ],
   "source": [
    "df = df[['Open', 'High', 'Low', 'Close', 'Volume']]\n",
    "df['HL_percent'] = (df['High'] - df['Close']) / df['Close'] * 100\n",
    "df['Percent_change'] = (df['Close'] - df['Open']) / df['Open'] * 100\n",
    "\n",
    "df = df[['Close', 'HL_percent', 'Percent_change', 'Volume']]\n",
    "\n",
    "print(df.head())"
   ]
  },
  {
   "cell_type": "markdown",
   "metadata": {},
   "source": [
    "### ADD LABEL COLUMN"
   ]
  },
  {
   "cell_type": "code",
   "execution_count": 83,
   "metadata": {},
   "outputs": [
    {
     "name": "stdout",
     "output_type": "stream",
     "text": [
      "       Close  HL_percent  Percent_change    Volume  Future_volume\n",
      "0  50.220219    3.707395        0.340000  44659096      86.301300\n",
      "1  54.209209    0.710927        7.227004  22834343      93.793793\n",
      "2  54.754753    3.729441       -1.218966  18256126      90.990990\n",
      "3  52.487488    6.417472       -5.726354  15247337      93.078079\n",
      "4  53.053055    1.886789        0.990858   9188602      96.746750\n"
     ]
    }
   ],
   "source": [
    "import math\n",
    "\n",
    "FORECAST_COL = 'Close'\n",
    "df.fillna(-9999, inplace=True)\n",
    "\n",
    "# forecast future close based on today features\n",
    "FORECAST_OUT = int(math.ceil(0.01*len(df)))\n",
    "\n",
    "LABEL = 'Future_volume'\n",
    "df[LABEL] = df[FORECAST_COL].shift(-FORECAST_OUT)\n",
    "df.dropna(inplace=True)\n",
    "print(df.head())"
   ]
  },
  {
   "cell_type": "markdown",
   "metadata": {},
   "source": [
    "### Prepare data"
   ]
  },
  {
   "cell_type": "code",
   "execution_count": 84,
   "metadata": {},
   "outputs": [
    {
     "name": "stdout",
     "output_type": "stream",
     "text": [
      "Index(['Close', 'HL_percent', 'Percent_change', 'Volume', 'Future_volume'], dtype='object')\n"
     ]
    }
   ],
   "source": [
    "# Define features and labels\n",
    "print(df.columns)\n",
    "X = np.array(df.drop(LABEL, axis=1))\n",
    "y = np.array(df[LABEL])\n",
    "\n",
    "# Scaling the features\n",
    "X = preprocessing.scale(X)\n",
    "\n",
    "# create training and test sets\n",
    "X_train, X_test, y_train, y_test = model_selection.train_test_split(X, y, test_size=0.2)"
   ]
  },
  {
   "cell_type": "markdown",
   "metadata": {},
   "source": [
    "### Prepare Classifier ( Linear Regression )"
   ]
  },
  {
   "cell_type": "code",
   "execution_count": 85,
   "metadata": {},
   "outputs": [
    {
     "name": "stdout",
     "output_type": "stream",
     "text": [
      "0.9820591603064874\n"
     ]
    }
   ],
   "source": [
    "clf = LinearRegression()\n",
    "clf.fit(X_train, y_train)\n",
    "accuracy = clf.score(X_test, y_test)\n",
    "\n",
    "print(accuracy)"
   ]
  },
  {
   "cell_type": "markdown",
   "metadata": {},
   "source": [
    "### Prepare Classifier ( SVM ) -- Default"
   ]
  },
  {
   "cell_type": "code",
   "execution_count": 88,
   "metadata": {},
   "outputs": [
    {
     "name": "stdout",
     "output_type": "stream",
     "text": [
      "0.433093430028616\n"
     ]
    }
   ],
   "source": [
    "clf = svm.SVR()\n",
    "clf.fit(X_train, y_train)\n",
    "accuracy = clf.score(X_test, y_test)\n",
    "\n",
    "print(accuracy)"
   ]
  },
  {
   "cell_type": "markdown",
   "metadata": {},
   "source": [
    "### Prepare Classifier ( SVM ) -- Polynomial"
   ]
  },
  {
   "cell_type": "code",
   "execution_count": 90,
   "metadata": {},
   "outputs": [
    {
     "name": "stdout",
     "output_type": "stream",
     "text": [
      "0.6102743400395245\n"
     ]
    }
   ],
   "source": [
    "clf = svm.SVR(kernel='poly')\n",
    "clf.fit(X_train, y_train)\n",
    "accuracy = clf.score(X_test, y_test)\n",
    "\n",
    "print(accuracy)"
   ]
  },
  {
   "cell_type": "code",
   "execution_count": null,
   "metadata": {},
   "outputs": [],
   "source": [
    " "
   ]
  }
 ],
 "metadata": {
  "kernelspec": {
   "display_name": "Python 3 (ipykernel)",
   "language": "python",
   "name": "python3"
  },
  "language_info": {
   "codemirror_mode": {
    "name": "ipython",
    "version": 3
   },
   "file_extension": ".py",
   "mimetype": "text/x-python",
   "name": "python",
   "nbconvert_exporter": "python",
   "pygments_lexer": "ipython3",
   "version": "3.9.6"
  }
 },
 "nbformat": 4,
 "nbformat_minor": 1
}
